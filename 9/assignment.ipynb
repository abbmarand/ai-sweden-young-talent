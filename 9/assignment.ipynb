{
 "cells": [
  {
   "cell_type": "code",
   "execution_count": 8,
   "metadata": {},
   "outputs": [
    {
     "name": "stderr",
     "output_type": "stream",
     "text": [
      "No model was supplied, defaulted to sshleifer/distilbart-cnn-12-6 and revision a4f8f3e (https://huggingface.co/sshleifer/distilbart-cnn-12-6).\n",
      "Using a pipeline without specifying a model name and revision in production is not recommended.\n",
      "No model was supplied, defaulted to distilbert/distilbert-base-uncased-finetuned-sst-2-english and revision af0f99b (https://huggingface.co/distilbert/distilbert-base-uncased-finetuned-sst-2-english).\n",
      "Using a pipeline without specifying a model name and revision in production is not recommended.\n",
      "No model was supplied, defaulted to dbmdz/bert-large-cased-finetuned-conll03-english and revision f2482bf (https://huggingface.co/dbmdz/bert-large-cased-finetuned-conll03-english).\n",
      "Using a pipeline without specifying a model name and revision in production is not recommended.\n",
      "Some weights of the model checkpoint at dbmdz/bert-large-cased-finetuned-conll03-english were not used when initializing BertForTokenClassification: ['bert.pooler.dense.bias', 'bert.pooler.dense.weight']\n",
      "- This IS expected if you are initializing BertForTokenClassification from the checkpoint of a model trained on another task or with another architecture (e.g. initializing a BertForSequenceClassification model from a BertForPreTraining model).\n",
      "- This IS NOT expected if you are initializing BertForTokenClassification from the checkpoint of a model that you expect to be exactly identical (initializing a BertForSequenceClassification model from a BertForSequenceClassification model).\n",
      "No model was supplied, defaulted to openai-community/gpt2 and revision 6c0e608 (https://huggingface.co/openai-community/gpt2).\n",
      "Using a pipeline without specifying a model name and revision in production is not recommended.\n",
      "Setting `pad_token_id` to `eos_token_id`:50256 for open-end generation.\n"
     ]
    },
    {
     "name": "stdout",
     "output_type": "stream",
     "text": [
      "[{'translation_text': 'Jag älskar programmering i Python'}]\n",
      "[{'generated_text': \"I love programming in Python and when it comes down for you it means nothing.\\n\\nHow to Use:\\n\\nCopy the repo to your existing site and just paste the URL.\\n\\nYou'll get a list of all required objects, just\"}]\n",
      "[{'label': 'POSITIVE', 'score': 0.9987718462944031}]\n"
     ]
    },
    {
     "name": "stderr",
     "output_type": "stream",
     "text": [
      "Your max_length is set to 142, but your input_length is only 7. Since this is a summarization task, where outputs shorter than the input are typically wanted, you might consider decreasing max_length manually, e.g. summarizer('...', max_length=3)\n"
     ]
    },
    {
     "name": "stdout",
     "output_type": "stream",
     "text": [
      "[{'entity_group': 'MISC', 'score': 0.96414167, 'word': 'Python', 'start': 22, 'end': 28}]\n",
      "[{'summary_text': \" I love programming in Python . Python is the language of programming that allows you to write Python code . Python has been used in more than 1,000 languages worldwide . It's a great way to learn Python programming, but it's not the best way to do it .\"}]\n"
     ]
    }
   ],
   "source": [
    "from transformers import pipeline\n",
    "summarizer = pipeline(\"summarization\")\n",
    "classifier = pipeline(\"text-classification\")\n",
    "ner_tagger = pipeline(\"ner\", aggregation_strategy=\"simple\")\n",
    "translator = pipeline(\"translation_en_to_sv\", model=\"Helsinki-NLP/opus-mt-en-sv\") #This one you can change to other language then swedish if you like!\n",
    "generator = pipeline(\"text-generation\")\n",
    "\n",
    "print(translator(\"I love programming in Python\"))\n",
    "print(generator(\"I love programming in Python\"))\n",
    "print(classifier(\"I love programming in Python\"))\n",
    "print(ner_tagger(\"I love programming in Python\"))\n",
    "print(summarizer(\"I love programming in Python\"))\n",
    "\n",
    "swedish_game_review = \"\"\"Att följa upp en succé är inte alltid det enklaste, men i fallet God of War: Ragnarök känns det som om Santa Monica Studio trivs som allra bäst när förväntningarna är som störst. Vi har betygsatt Kratos senaste kapitel, och det här är sannerligen en saga du inte vill missa.\"\"\"\n",
    "\n",
    "english_game_review = \"\"\"Santa Monica Studios' follow-up to the 2018 soft reboot is almost here, but does it stack up to its excellent predecessor? Simply put... yes.\"\"\"\n",
    "\n",
    "swedish_sports_news = \"\"\"Det är inte bara på fotbollsplanen som livet leker för Jennifer Falk just nu. Efter succén i Häcken och stora möjligheter att ta över som förstamålvakt i landslaget efter Hedvig Lindahl har hon nu fått livets största gåva.\"\"\"\n",
    "\n",
    "celebrity_news = \"\"\"Television reality star Kim Kardashian West said Friday that she and rapper Kanye West have welcomed their fourth child, a boy born via surrogate.\n",
    "\n",
    "\"He's here and he's perfect!\" the 38-year-old Kardashian, who also has her own make-up and fragrance lines, tweeted.\n",
    "\n",
    "She had announced the couple were expecting in January, telling the US program \"Watch What Happens Live With Andy Cohen\" that the youngest Kardashian to keep up with was due \"sometime soon.\"\n",
    "\n",
    "The new baby joins three other siblings: sister Chicago, who was born last year via surrogate, five-year-old sister North, and three-year-old brother Saint.\"\"\"\n",
    "\n",
    "print(\"Swedish Game Review:\", swedish_game_review)\n",
    "print(\"\\nEnglish Game Review:\", english_game_review)\n",
    "print(\"\\nSwedish Sports News:\", swedish_sports_news)\n",
    "print(\"\\nCelebrity News:\", celebrity_news)\n"
   ]
  }
 ],
 "metadata": {
  "kernelspec": {
   "display_name": "Python 3",
   "language": "python",
   "name": "python3"
  },
  "language_info": {
   "codemirror_mode": {
    "name": "ipython",
    "version": 3
   },
   "file_extension": ".py",
   "mimetype": "text/x-python",
   "name": "python",
   "nbconvert_exporter": "python",
   "pygments_lexer": "ipython3",
   "version": "3.12.3"
  }
 },
 "nbformat": 4,
 "nbformat_minor": 2
}
