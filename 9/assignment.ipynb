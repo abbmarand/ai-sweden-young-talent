{
 "cells": [
  {
   "cell_type": "code",
   "execution_count": 3,
   "metadata": {},
   "outputs": [
    {
     "name": "stderr",
     "output_type": "stream",
     "text": [
      "No model was supplied, defaulted to sshleifer/distilbart-cnn-12-6 and revision a4f8f3e (https://huggingface.co/sshleifer/distilbart-cnn-12-6).\n",
      "Using a pipeline without specifying a model name and revision in production is not recommended.\n",
      "No model was supplied, defaulted to distilbert/distilbert-base-uncased-finetuned-sst-2-english and revision 714eb0f (https://huggingface.co/distilbert/distilbert-base-uncased-finetuned-sst-2-english).\n",
      "Using a pipeline without specifying a model name and revision in production is not recommended.\n",
      "No model was supplied, defaulted to dbmdz/bert-large-cased-finetuned-conll03-english and revision 4c53496 (https://huggingface.co/dbmdz/bert-large-cased-finetuned-conll03-english).\n",
      "Using a pipeline without specifying a model name and revision in production is not recommended.\n",
      "Some weights of the model checkpoint at dbmdz/bert-large-cased-finetuned-conll03-english were not used when initializing BertForTokenClassification: ['bert.pooler.dense.bias', 'bert.pooler.dense.weight']\n",
      "- This IS expected if you are initializing BertForTokenClassification from the checkpoint of a model trained on another task or with another architecture (e.g. initializing a BertForSequenceClassification model from a BertForPreTraining model).\n",
      "- This IS NOT expected if you are initializing BertForTokenClassification from the checkpoint of a model that you expect to be exactly identical (initializing a BertForSequenceClassification model from a BertForSequenceClassification model).\n"
     ]
    },
    {
     "ename": "ValueError",
     "evalue": "This tokenizer cannot be instantiated. Please make sure you have `sentencepiece` installed in order to use this tokenizer.",
     "output_type": "error",
     "traceback": [
      "\u001b[0;31m---------------------------------------------------------------------------\u001b[0m",
      "\u001b[0;31mValueError\u001b[0m                                Traceback (most recent call last)",
      "Cell \u001b[0;32mIn[3], line 5\u001b[0m\n\u001b[1;32m      3\u001b[0m classifier \u001b[38;5;241m=\u001b[39m pipeline(\u001b[38;5;124m\"\u001b[39m\u001b[38;5;124mtext-classification\u001b[39m\u001b[38;5;124m\"\u001b[39m)\n\u001b[1;32m      4\u001b[0m ner_tagger \u001b[38;5;241m=\u001b[39m pipeline(\u001b[38;5;124m\"\u001b[39m\u001b[38;5;124mner\u001b[39m\u001b[38;5;124m\"\u001b[39m, aggregation_strategy\u001b[38;5;241m=\u001b[39m\u001b[38;5;124m\"\u001b[39m\u001b[38;5;124msimple\u001b[39m\u001b[38;5;124m\"\u001b[39m)\n\u001b[0;32m----> 5\u001b[0m translator \u001b[38;5;241m=\u001b[39m \u001b[43mpipeline\u001b[49m\u001b[43m(\u001b[49m\u001b[38;5;124;43m\"\u001b[39;49m\u001b[38;5;124;43mtranslation_en_to_sv\u001b[39;49m\u001b[38;5;124;43m\"\u001b[39;49m\u001b[43m,\u001b[49m\u001b[43m \u001b[49m\u001b[43mmodel\u001b[49m\u001b[38;5;241;43m=\u001b[39;49m\u001b[38;5;124;43m\"\u001b[39;49m\u001b[38;5;124;43mHelsinki-NLP/opus-mt-en-sv\u001b[39;49m\u001b[38;5;124;43m\"\u001b[39;49m\u001b[43m)\u001b[49m \u001b[38;5;66;03m#This one you can change to other language then swedish if you like!\u001b[39;00m\n\u001b[1;32m      6\u001b[0m generator \u001b[38;5;241m=\u001b[39m pipeline(\u001b[38;5;124m\"\u001b[39m\u001b[38;5;124mtext-generation\u001b[39m\u001b[38;5;124m\"\u001b[39m)\n\u001b[1;32m      7\u001b[0m qa_pipeline \u001b[38;5;241m=\u001b[39m pipeline(\u001b[38;5;124m\"\u001b[39m\u001b[38;5;124mquestion-answering\u001b[39m\u001b[38;5;124m\"\u001b[39m)\n",
      "File \u001b[0;32m~/dev/ai/lib/python3.12/site-packages/transformers/pipelines/__init__.py:999\u001b[0m, in \u001b[0;36mpipeline\u001b[0;34m(task, model, config, tokenizer, feature_extractor, image_processor, framework, revision, use_fast, token, device, device_map, torch_dtype, trust_remote_code, model_kwargs, pipeline_class, **kwargs)\u001b[0m\n\u001b[1;32m    996\u001b[0m             tokenizer_kwargs \u001b[38;5;241m=\u001b[39m model_kwargs\u001b[38;5;241m.\u001b[39mcopy()\n\u001b[1;32m    997\u001b[0m             tokenizer_kwargs\u001b[38;5;241m.\u001b[39mpop(\u001b[38;5;124m\"\u001b[39m\u001b[38;5;124mtorch_dtype\u001b[39m\u001b[38;5;124m\"\u001b[39m, \u001b[38;5;28;01mNone\u001b[39;00m)\n\u001b[0;32m--> 999\u001b[0m         tokenizer \u001b[38;5;241m=\u001b[39m \u001b[43mAutoTokenizer\u001b[49m\u001b[38;5;241;43m.\u001b[39;49m\u001b[43mfrom_pretrained\u001b[49m\u001b[43m(\u001b[49m\n\u001b[1;32m   1000\u001b[0m \u001b[43m            \u001b[49m\u001b[43mtokenizer_identifier\u001b[49m\u001b[43m,\u001b[49m\u001b[43m \u001b[49m\u001b[43muse_fast\u001b[49m\u001b[38;5;241;43m=\u001b[39;49m\u001b[43muse_fast\u001b[49m\u001b[43m,\u001b[49m\u001b[43m \u001b[49m\u001b[43m_from_pipeline\u001b[49m\u001b[38;5;241;43m=\u001b[39;49m\u001b[43mtask\u001b[49m\u001b[43m,\u001b[49m\u001b[43m \u001b[49m\u001b[38;5;241;43m*\u001b[39;49m\u001b[38;5;241;43m*\u001b[39;49m\u001b[43mhub_kwargs\u001b[49m\u001b[43m,\u001b[49m\u001b[43m \u001b[49m\u001b[38;5;241;43m*\u001b[39;49m\u001b[38;5;241;43m*\u001b[39;49m\u001b[43mtokenizer_kwargs\u001b[49m\n\u001b[1;32m   1001\u001b[0m \u001b[43m        \u001b[49m\u001b[43m)\u001b[49m\n\u001b[1;32m   1003\u001b[0m \u001b[38;5;28;01mif\u001b[39;00m load_image_processor:\n\u001b[1;32m   1004\u001b[0m     \u001b[38;5;66;03m# Try to infer image processor from model or config name (if provided as str)\u001b[39;00m\n\u001b[1;32m   1005\u001b[0m     \u001b[38;5;28;01mif\u001b[39;00m image_processor \u001b[38;5;129;01mis\u001b[39;00m \u001b[38;5;28;01mNone\u001b[39;00m:\n",
      "File \u001b[0;32m~/dev/ai/lib/python3.12/site-packages/transformers/models/auto/tokenization_auto.py:931\u001b[0m, in \u001b[0;36mAutoTokenizer.from_pretrained\u001b[0;34m(cls, pretrained_model_name_or_path, *inputs, **kwargs)\u001b[0m\n\u001b[1;32m    929\u001b[0m             \u001b[38;5;28;01mreturn\u001b[39;00m tokenizer_class_py\u001b[38;5;241m.\u001b[39mfrom_pretrained(pretrained_model_name_or_path, \u001b[38;5;241m*\u001b[39minputs, \u001b[38;5;241m*\u001b[39m\u001b[38;5;241m*\u001b[39mkwargs)\n\u001b[1;32m    930\u001b[0m         \u001b[38;5;28;01melse\u001b[39;00m:\n\u001b[0;32m--> 931\u001b[0m             \u001b[38;5;28;01mraise\u001b[39;00m \u001b[38;5;167;01mValueError\u001b[39;00m(\n\u001b[1;32m    932\u001b[0m                 \u001b[38;5;124m\"\u001b[39m\u001b[38;5;124mThis tokenizer cannot be instantiated. Please make sure you have `sentencepiece` installed \u001b[39m\u001b[38;5;124m\"\u001b[39m\n\u001b[1;32m    933\u001b[0m                 \u001b[38;5;124m\"\u001b[39m\u001b[38;5;124min order to use this tokenizer.\u001b[39m\u001b[38;5;124m\"\u001b[39m\n\u001b[1;32m    934\u001b[0m             )\n\u001b[1;32m    936\u001b[0m \u001b[38;5;28;01mraise\u001b[39;00m \u001b[38;5;167;01mValueError\u001b[39;00m(\n\u001b[1;32m    937\u001b[0m     \u001b[38;5;124mf\u001b[39m\u001b[38;5;124m\"\u001b[39m\u001b[38;5;124mUnrecognized configuration class \u001b[39m\u001b[38;5;132;01m{\u001b[39;00mconfig\u001b[38;5;241m.\u001b[39m\u001b[38;5;18m__class__\u001b[39m\u001b[38;5;132;01m}\u001b[39;00m\u001b[38;5;124m to build an AutoTokenizer.\u001b[39m\u001b[38;5;130;01m\\n\u001b[39;00m\u001b[38;5;124m\"\u001b[39m\n\u001b[1;32m    938\u001b[0m     \u001b[38;5;124mf\u001b[39m\u001b[38;5;124m\"\u001b[39m\u001b[38;5;124mModel type should be one of \u001b[39m\u001b[38;5;132;01m{\u001b[39;00m\u001b[38;5;124m'\u001b[39m\u001b[38;5;124m, \u001b[39m\u001b[38;5;124m'\u001b[39m\u001b[38;5;241m.\u001b[39mjoin(c\u001b[38;5;241m.\u001b[39m\u001b[38;5;18m__name__\u001b[39m\u001b[38;5;250m \u001b[39m\u001b[38;5;28;01mfor\u001b[39;00m\u001b[38;5;250m \u001b[39mc\u001b[38;5;250m \u001b[39m\u001b[38;5;129;01min\u001b[39;00m\u001b[38;5;250m \u001b[39mTOKENIZER_MAPPING\u001b[38;5;241m.\u001b[39mkeys())\u001b[38;5;132;01m}\u001b[39;00m\u001b[38;5;124m.\u001b[39m\u001b[38;5;124m\"\u001b[39m\n\u001b[1;32m    939\u001b[0m )\n",
      "\u001b[0;31mValueError\u001b[0m: This tokenizer cannot be instantiated. Please make sure you have `sentencepiece` installed in order to use this tokenizer."
     ]
    }
   ],
   "source": [
    "from transformers import pipeline\n",
    "summarizer = pipeline(\"summarization\")\n",
    "classifier = pipeline(\"text-classification\")\n",
    "ner_tagger = pipeline(\"ner\", aggregation_strategy=\"simple\")\n",
    "translator = pipeline(\"translation_en_to_sv\", model=\"Helsinki-NLP/opus-mt-en-sv\") #This one you can change to other language then swedish if you like!\n",
    "generator = pipeline(\"text-generation\")\n",
    "qa_pipeline = pipeline(\"question-answering\")\n",
    "\n",
    "print(translator(\"I love programming in Python\"))\n",
    "print(generator(\"I love programming in Python\"))\n",
    "print(classifier(\"I love programming in Python\"))\n",
    "print(ner_tagger(\"I love programming in Python\"))\n",
    "print(summarizer(\"I love programming in Python\"))\n",
    "\n",
    "swedish_game_review = \"\"\"Att följa upp en succé är inte alltid det enklaste, men i fallet God of War: Ragnarök känns det som om Santa Monica Studio trivs som allra bäst när förväntningarna är som störst. Vi har betygsatt Kratos senaste kapitel, och det här är sannerligen en saga du inte vill missa.\"\"\"\n",
    "\n",
    "english_game_review = \"\"\"Santa Monica Studios' follow-up to the 2018 soft reboot is almost here, but does it stack up to its excellent predecessor? Simply put... yes.\"\"\"\n",
    "\n",
    "swedish_sports_news = \"\"\"Det är inte bara på fotbollsplanen som livet leker för Jennifer Falk just nu. Efter succén i Häcken och stora möjligheter att ta över som förstamålvakt i landslaget efter Hedvig Lindahl har hon nu fått livets största gåva.\"\"\"\n",
    "\n",
    "celebrity_news = \"\"\"Television reality star Kim Kardashian West said Friday that she and rapper Kanye West have welcomed their fourth child, a boy born via surrogate.\n",
    "\n",
    "\"He's here and he's perfect!\" the 38-year-old Kardashian, who also has her own make-up and fragrance lines, tweeted.\n",
    "\n",
    "She had announced the couple were expecting in January, telling the US program \"Watch What Happens Live With Andy Cohen\" that the youngest Kardashian to keep up with was due \"sometime soon.\"\n",
    "\n",
    "The new baby joins three other siblings: sister Chicago, who was born last year via surrogate, five-year-old sister North, and three-year-old brother Saint.\"\"\"\n"
   ]
  },
  {
   "cell_type": "code",
   "execution_count": null,
   "metadata": {},
   "outputs": [
    {
     "name": "stdout",
     "output_type": "stream",
     "text": [
      "Sentiment classification results:\n",
      "\n",
      "Text 1:\n",
      "Label: NEGATIVE\n",
      "Score: 0.9883\n",
      "\n",
      "Text 2:\n",
      "Label: POSITIVE\n",
      "Score: 0.9910\n",
      "\n",
      "Text 3:\n",
      "Label: NEGATIVE\n",
      "Score: 0.9893\n",
      "\n",
      "Text 4:\n",
      "Label: POSITIVE\n",
      "Score: 0.9996\n"
     ]
    }
   ],
   "source": [
    "texts = [\n",
    "    swedish_game_review,\n",
    "    english_game_review,\n",
    "    swedish_sports_news,\n",
    "    celebrity_news\n",
    "]\n",
    "\n",
    "print(\"Sentiment classification results:\")\n",
    "for i, text in enumerate(texts, 1):\n",
    "    result = classifier(text)\n",
    "    print(f\"\\nText {i}:\")\n",
    "    print(f\"Label: {result[0]['label']}\")\n",
    "    print(f\"Score: {result[0]['score']:.4f}\")\n",
    "\n"
   ]
  },
  {
   "cell_type": "code",
   "execution_count": null,
   "metadata": {},
   "outputs": [
    {
     "name": "stdout",
     "output_type": "stream",
     "text": [
      "Question Answering Results:\n",
      "\n",
      "Context: Santa Monica Studios' follow-up to the 2018 soft r...\n",
      "\n",
      "Question: When was the predecessor released?\n",
      "Answer: 2018\n",
      "Confidence: 0.9877\n",
      "\n",
      "Question: Was the last game good?\n",
      "Answer: does it stack up to its excellent predecessor\n",
      "Confidence: 0.2574\n",
      "\n",
      "Context: Television reality star Kim Kardashian West said F...\n",
      "\n",
      "Question: How many children does kanye have?\n",
      "Answer: fourth\n",
      "Confidence: 0.6514\n",
      "\n",
      "Question: How old are Kim Karashian?\n",
      "Answer: 38\n",
      "Confidence: 0.9386\n",
      "\n",
      "Question: How old is North?\n",
      "Answer: 38\n",
      "Confidence: 0.2555\n",
      "\n",
      "Now try asking your own questions to see how well the model performs!\n"
     ]
    }
   ],
   "source": [
    "qa_tasks = [\n",
    "    {\n",
    "        \"context\": english_game_review,\n",
    "        \"questions\": [\n",
    "            \"When was the predecessor released?\",\n",
    "            \"Was the last game good?\"\n",
    "        ]\n",
    "    },\n",
    "    {\n",
    "        \"context\": celebrity_news,\n",
    "        \"questions\": [\n",
    "            \"How many children does kanye have?\",\n",
    "            \"How old are Kim Karashian?\",\n",
    "            \"How old is North?\"\n",
    "        ]\n",
    "    }\n",
    "]\n",
    "\n",
    "\n",
    "for task in qa_tasks:\n",
    "    context = task[\"context\"]\n",
    "    print(f\"\\nContext: {context[:50]}...\")\n",
    "    \n",
    "    for question in task[\"questions\"]:\n",
    "        result = qa_pipeline(question=question, context=context)\n",
    "        print(f\"\\nQuestion: {question}\")\n",
    "        print(f\"Answer: {result['answer']}\")\n",
    "        print(f\"Confidence: {result['score']:.4f}\")"
   ]
  },
  {
   "cell_type": "code",
   "execution_count": null,
   "metadata": {},
   "outputs": [
    {
     "name": "stdout",
     "output_type": "stream",
     "text": [
      "\n",
      "Text 1:\n",
      "Original length: 50 words\n",
      "\n",
      "Max length: 30\n",
      "Summary:  Santa Monica Studio trivs som allra bäst när förväntningarna är som stör\n",
      "Summary length: 12 words\n",
      "Compression ratio: 0.24\n",
      "Swedish translation: Santa Monica Studio trivs som alla bästa när förbrukningarna är som gör\n",
      "\n",
      "Max length: 50\n",
      "Summary:  God of War: Ragnarök känns det som om om Santa Monica Studio trivs som allra bäst när förväntningarna är som störst .\n",
      "Summary length: 22 words\n",
      "Compression ratio: 0.44\n",
      "Swedish translation: God of War: Ragnarök känner det som om Santa Monica Studio trivs som alla bästa när förbrukningarna är som störst.\n",
      "\n",
      "Max length: 70\n",
      "Summary:  God of War: Ragnarök känns det som om om Santa Monica Studio trivs som allra bäst när förväntningarna är som störst .\n",
      "Summary length: 22 words\n",
      "Compression ratio: 0.44\n",
      "Swedish translation: God of War: Ragnarök känner det som om Santa Monica Studio trivs som alla bästa när förbrukningarna är som störst.\n",
      "\n",
      "--------------------------------------------------\n",
      "\n",
      "Text 2:\n",
      "Original length: 24 words\n"
     ]
    },
    {
     "name": "stderr",
     "output_type": "stream",
     "text": [
      "Your max_length is set to 50, but your input_length is only 33. Since this is a summarization task, where outputs shorter than the input are typically wanted, you might consider decreasing max_length manually, e.g. summarizer('...', max_length=16)\n"
     ]
    },
    {
     "name": "stdout",
     "output_type": "stream",
     "text": [
      "\n",
      "Max length: 30\n",
      "Summary:  Santa Monica Studios' follow-up to the 2018 soft reboot is almost here, but does it stack up to its excellent predecessor? Simply\n",
      "Summary length: 22 words\n",
      "Compression ratio: 0.92\n",
      "Swedish translation: Santa Monica Studios uppföljning av den mjuka omstarten 2018 är nästan här, men staplar den upp till sin utmärkta föregångare?\n"
     ]
    },
    {
     "name": "stderr",
     "output_type": "stream",
     "text": [
      "Your max_length is set to 70, but your input_length is only 33. Since this is a summarization task, where outputs shorter than the input are typically wanted, you might consider decreasing max_length manually, e.g. summarizer('...', max_length=16)\n"
     ]
    },
    {
     "name": "stdout",
     "output_type": "stream",
     "text": [
      "\n",
      "Max length: 50\n",
      "Summary:  Santa Monica Studios' follow-up to the 2018 soft reboot is almost here, but does it stack up to its excellent predecessor? Simply put, yes. Santa Monica studies have a sequel coming out this summer .\n",
      "Summary length: 35 words\n",
      "Compression ratio: 1.46\n",
      "Swedish translation: Santa Monica Studios uppföljning av 2018 års mjuka omstart är nästan här, men staplar den upp till sin utmärkta föregångare? Enkelt uttryckt, ja. Santa Monica studier har en uppföljare som kommer ut i sommar.\n",
      "\n",
      "Max length: 70\n",
      "Summary:  Santa Monica Studios' follow-up to the 2018 soft reboot is almost here, but does it stack up to its excellent predecessor? Simply put, yes. Santa Monica studies have a sequel coming out this summer .\n",
      "Summary length: 35 words\n",
      "Compression ratio: 1.46\n",
      "Swedish translation: Santa Monica Studios uppföljning av 2018 års mjuka omstart är nästan här, men staplar den upp till sin utmärkta föregångare? Enkelt uttryckt, ja. Santa Monica studier har en uppföljare som kommer ut i sommar.\n",
      "\n",
      "--------------------------------------------------\n",
      "\n",
      "Text 3:\n",
      "Original length: 38 words\n",
      "\n",
      "Max length: 30\n",
      "Summary:  Jennifer Falk livet leker för Jennifer Falk just nu . Efter succén i Häcken och stora m\n",
      "Summary length: 17 words\n",
      "Compression ratio: 0.45\n",
      "Swedish translation: Jennifer Falk levande leker för Jennifer Falk just nu. Efter sucén i Häcken och stora m\n",
      "\n",
      "Max length: 50\n",
      "Summary:  Jennifer Falk livet leker för Jennifer Falk just nu . Efter succén i Häcken och stora möjligheter att ta ta över som förstamålvakt i\n",
      "Summary length: 24 words\n",
      "Compression ratio: 0.63\n",
      "Swedish translation: Jennifer Falk lever för Jennifer Falk just nu. Efter sucén i Häcken och stora möjligheter att ta över som tidigare i\n",
      "\n",
      "Max length: 70\n",
      "Summary:  Fotbollsplanen livet leker för Jennifer Falk just nu . Efter succén i Häcken och stora möjligheter att ta ta över som förstamålvakt i landslaget .\n",
      "Summary length: 25 words\n",
      "Compression ratio: 0.66\n",
      "Swedish translation: Fotbollsplanen lever för Jennifer Falk just nu. Efter sucén i Häcken och stora möjligheter att ta över som tidigare i landet.\n",
      "\n",
      "--------------------------------------------------\n",
      "\n",
      "Text 4:\n",
      "Original length: 97 words\n",
      "\n",
      "Max length: 30\n",
      "Summary:  Reality star Kim Kardashian West and rapper Kanye West have welcomed their fourth child, a boy . The 38-year-old Kardashian tweeted that\n",
      "Summary length: 22 words\n",
      "Compression ratio: 0.23\n",
      "Swedish translation: Verklighetsstjärnan Kim Kardashian West och rapparen Kanye West har välkomnat sitt fjärde barn, en pojke. Den 38-årige Kardashian tweetade att\n",
      "\n",
      "Max length: 50\n",
      "Summary:  Reality star Kim Kardashian West and rapper Kanye West have welcomed their fourth child, a boy . The 38-year-old Kardashian had announced the couple were expecting in January . The new baby joins three other siblings: sister Chicago, five,\n",
      "Summary length: 39 words\n",
      "Compression ratio: 0.40\n",
      "Swedish translation: Verklighetsstjärnan Kim Kardashian West och rapparen Kanye West har välkomnat sitt fjärde barn, en pojke. Den 38-årige Kardashian hade meddelat att paret väntade i januari. Det nya barnet ansluter sig till tre andra syskon: syster Chicago, fem,\n",
      "\n",
      "Max length: 70\n",
      "Summary:  Reality star Kim Kardashian West and rapper Kanye West have welcomed their fourth child, a boy . The 38-year-old Kardashian had announced the couple were expecting in January . The new baby joins three other siblings: sister Chicago, five, and brother Saint .\n",
      "Summary length: 43 words\n",
      "Compression ratio: 0.44\n",
      "Swedish translation: Verklighetsstjärnan Kim Kardashian West och rapparen Kanye West har välkomnat sitt fjärde barn, en pojke. Den 38-årige Kardashian hade meddelat att paret väntade i januari. Det nya barnet ansluter sig till tre andra syskon: syster Chicago, fem, och bror Saint.\n",
      "\n",
      "--------------------------------------------------\n"
     ]
    }
   ],
   "source": [
    "def summarize_and_translate(text, max_length=50):\n",
    "    summary = summarizer(text, max_length=max_length, min_length=10, do_sample=False)[0]['summary_text']\n",
    "    compression_ratio = len(summary.split()) / len(text.split())\n",
    "    translation = translator(summary)[0]['translation_text']\n",
    "    return summary, compression_ratio, translation\n",
    "\n",
    "for i, text in enumerate(texts, 1):\n",
    "    print(f\"\\nText {i}:\")\n",
    "    print(f\"Original length: {len(text.split())} words\")\n",
    "    \n",
    "    for max_length in [30, 50, 70]:\n",
    "        summary, compression_ratio, translation = summarize_and_translate(text, max_length)\n",
    "        \n",
    "        print(f\"\\nMax length: {max_length}\")\n",
    "        print(f\"Summary: {summary}\")\n",
    "        print(f\"Summary length: {len(summary.split())} words\")\n",
    "        print(f\"Compression ratio: {compression_ratio:.2f}\")\n",
    "        print(f\"Swedish translation: {translation}\")\n",
    "\n",
    "    print(\"\\n\" + \"-\"*50)\n"
   ]
  },
  {
   "cell_type": "markdown",
   "metadata": {},
   "source": [
    "# I'll skip the fake generating tweets\n",
    "\n",
    "I feel like everyone has already tried this since LLMs are more generally available."
   ]
  }
 ],
 "metadata": {
  "kernelspec": {
   "display_name": "Python 3",
   "language": "python",
   "name": "python3"
  },
  "language_info": {
   "codemirror_mode": {
    "name": "ipython",
    "version": 3
   },
   "file_extension": ".py",
   "mimetype": "text/x-python",
   "name": "python",
   "nbconvert_exporter": "python",
   "pygments_lexer": "ipython3",
   "version": "3.12.3"
  }
 },
 "nbformat": 4,
 "nbformat_minor": 2
}
