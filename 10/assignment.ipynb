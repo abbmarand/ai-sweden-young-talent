{
 "cells": [
  {
   "cell_type": "code",
   "execution_count": 46,
   "metadata": {},
   "outputs": [
    {
     "name": "stdout",
     "output_type": "stream",
     "text": [
      "Loaded 90 training images from ./data/images/training\n",
      "Loaded 17 validation images from ./data/images/val\n"
     ]
    },
    {
     "data": {
      "text/plain": [
       "{'img': <PIL.JpegImagePlugin.JpegImageFile image mode=RGB size=4016x6016>,\n",
       " 'label': 'pexels-luis-zambrano-17570081',\n",
       " 'labeldata': ['2 0.428109 0.683036 0.284220 0.593750']}"
      ]
     },
     "execution_count": 46,
     "metadata": {},
     "output_type": "execute_result"
    }
   ],
   "source": [
    "from ultralytics import YOLO\n",
    "model = YOLO(\"yolov8n-cls.pt\")\n",
    "import os\n",
    "from PIL import Image\n",
    "\n",
    "train_path = \"./data/images/training\"\n",
    "validation_path = \"./data/images/val\"\n",
    "label_train_path = \"./data/labels/training\"\n",
    "label_validation_path = \"./data/labels/val\"\n",
    "training_images = []\n",
    "validation_images = []\n",
    "\n",
    "for filename in os.listdir(train_path):\n",
    "    if filename.lower().endswith(('.png', '.jpg', '.jpeg', '.tiff', '.bmp', '.gif')):\n",
    "\n",
    "        file_path = os.path.join(train_path, filename)\n",
    "        img = Image.open(file_path)\n",
    "        label = filename.split(\".\")[0]\n",
    "        labeldata = open(os.path.join(label_train_path, f\"{label}.txt\")).readlines()\n",
    "        training_images.append({\"img\": img, \"label\": label, \"labeldata\": labeldata})\n",
    "\n",
    "for filename in os.listdir(validation_path):\n",
    "    if filename.lower().endswith(('.png', '.jpg', '.jpeg', '.tiff', '.bmp', '.gif')):\n",
    "        file_path = os.path.join(validation_path, filename)\n",
    "        img = Image.open(file_path)\n",
    "        label = filename.split(\".\")[0]\n",
    "        labeldata = open(os.path.join(label_validation_path, f\"{label}.txt\")).readlines()\n",
    "        validation_images.append({\"img\": img, \"label\": label, \"labeldata\": labeldata})\n",
    "\n",
    "\n",
    "print(f\"Loaded {len(training_images)} training images from {train_path}\")\n",
    "print(f\"Loaded {len(validation_images)} validation images from {validation_path}\")\n",
    "\n",
    "training_images[0]\n"
   ]
  },
  {
   "cell_type": "code",
   "execution_count": null,
   "metadata": {},
   "outputs": [],
   "source": []
  }
 ],
 "metadata": {
  "kernelspec": {
   "display_name": "Python 3",
   "language": "python",
   "name": "python3"
  },
  "language_info": {
   "codemirror_mode": {
    "name": "ipython",
    "version": 3
   },
   "file_extension": ".py",
   "mimetype": "text/x-python",
   "name": "python",
   "nbconvert_exporter": "python",
   "pygments_lexer": "ipython3",
   "version": "3.12.3"
  }
 },
 "nbformat": 4,
 "nbformat_minor": 2
}
