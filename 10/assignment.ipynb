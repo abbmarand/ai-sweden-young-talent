{
 "cells": [
  {
   "cell_type": "code",
   "execution_count": 37,
   "metadata": {},
   "outputs": [
    {
     "name": "stdout",
     "output_type": "stream",
     "text": [
      "Loaded 90 training images from ./data/images/training\n",
      "Loaded 17 validation images from ./data/images/val\n"
     ]
    },
    {
     "data": {
      "text/plain": [
       "{'img': <PIL.JpegImagePlugin.JpegImageFile image mode=RGB size=4016x6016>,\n",
       " 'label': 'pexels-luis-zambrano-17570081',\n",
       " 'labeldata': ['2 0.428109 0.683036 0.284220 0.593750']}"
      ]
     },
     "execution_count": 37,
     "metadata": {},
     "output_type": "execute_result"
    }
   ],
   "source": [
    "from ultralytics import YOLO\n",
    "model = YOLO(\"yolov8n-cls.pt\")\n",
    "import os\n",
    "from PIL import Image\n",
    "\n",
    "train_path = \"./data/images/training\"\n",
    "validation_path = \"./data/images/val\"\n",
    "label_train_path = \"./data/labels/training\"\n",
    "label_validation_path = \"./data/labels/val\"\n",
    "training_images = []\n",
    "validation_images = []\n",
    "\n",
    "for filename in os.listdir(train_path):\n",
    "    if filename.lower().endswith(('.png', '.jpg', '.jpeg', '.tiff', '.bmp', '.gif')):\n",
    "\n",
    "        file_path = os.path.join(train_path, filename)\n",
    "        img = Image.open(file_path)\n",
    "        label = filename.split(\".\")[0]\n",
    "        labeldata = open(os.path.join(label_train_path, f\"{label}.txt\")).readlines()\n",
    "        training_images.append({\"img\": img, \"label\": label, \"labeldata\": labeldata})\n",
    "\n",
    "for filename in os.listdir(validation_path):\n",
    "    if filename.lower().endswith(('.png', '.jpg', '.jpeg', '.tiff', '.bmp', '.gif')):\n",
    "        file_path = os.path.join(validation_path, filename)\n",
    "        img = Image.open(file_path)\n",
    "        label = filename.split(\".\")[0]\n",
    "        labeldata = open(os.path.join(label_validation_path, f\"{label}.txt\")).readlines()\n",
    "        validation_images.append({\"img\": img, \"label\": label, \"labeldata\": labeldata})\n",
    "\n",
    "\n",
    "print(f\"Loaded {len(training_images)} training images from {train_path}\")\n",
    "print(f\"Loaded {len(validation_images)} validation images from {validation_path}\")\n",
    "\n",
    "training_images[0]\n"
   ]
  },
  {
   "cell_type": "code",
   "execution_count": 41,
   "metadata": {},
   "outputs": [
    {
     "name": "stdout",
     "output_type": "stream",
     "text": [
      "Ultralytics 8.3.3 🚀 Python-3.12.3 torch-2.4.1+cu121 CPU (AMD Ryzen 7 4700U with Radeon Graphics)\n",
      "\u001b[34m\u001b[1mengine/trainer: \u001b[0mtask=classify, mode=train, model=yolov8n-cls.pt, data={'train': ['/home/m/dev/ai/10/data/images/training/pexels-luis-zambrano-17570081.jpg', '/home/m/dev/ai/10/data/images/training/pexels-carrie-kin-2989700.jpg', '/home/m/dev/ai/10/data/images/training/pexels-polina-tankilevitch-4110156.jpg', '/home/m/dev/ai/10/data/images/training/pexels-bhargava-marripati-3250510.jpg', '/home/m/dev/ai/10/data/images/training/pexels-marlon-schmeiski-2883378.jpg', '/home/m/dev/ai/10/data/images/training/pexels-marlene-leppänen-2066896.jpg', '/home/m/dev/ai/10/data/images/training/pexels-david-kretschmann-8974252.jpg', '/home/m/dev/ai/10/data/images/training/pexels-alican-helik-18052763.jpg', '/home/m/dev/ai/10/data/images/training/pexels-garvin-st-villier-14277545.jpg', '/home/m/dev/ai/10/data/images/training/pexels-philip-lindvall-1120275.jpg', '/home/m/dev/ai/10/data/images/training/pexels-moy-caro-_-photographer-17218292.jpg', '/home/m/dev/ai/10/data/images/training/pexels-m-u-h-t-e-l-i-f-13920353 (1).jpg', '/home/m/dev/ai/10/data/images/training/pexels-nikolett-emmert-14440675.jpg', '/home/m/dev/ai/10/data/images/training/pexels-brett-jordan-2643698.jpg', '/home/m/dev/ai/10/data/images/training/pexels-files-1050327.jpg', '/home/m/dev/ai/10/data/images/training/pexels-fabian-rubilar-17995012.jpg', '/home/m/dev/ai/10/data/images/training/pexels-natan-16463229.jpg', '/home/m/dev/ai/10/data/images/training/pexels-ali-pazani-3061814.jpg', '/home/m/dev/ai/10/data/images/training/pexels-karolina-grabowska-4195325.jpg', '/home/m/dev/ai/10/data/images/training/pexels-matheus-natan-2869262.jpg', '/home/m/dev/ai/10/data/images/training/pexels-hemanth-k-m-11638635.jpg', '/home/m/dev/ai/10/data/images/training/pexels-irina-iriser-1647976.jpg', '/home/m/dev/ai/10/data/images/training/pexels-miriam-alonso-7622520.jpg', '/home/m/dev/ai/10/data/images/training/pexels-nothing-ahead-3049394.jpg', '/home/m/dev/ai/10/data/images/training/pexels-radwan-menzer-17747031.jpg', '/home/m/dev/ai/10/data/images/training/pexels-mohammad-sattar-18339484.jpg', '/home/m/dev/ai/10/data/images/training/pexels-cottonbro-studio-5081418.jpg', '/home/m/dev/ai/10/data/images/training/pexels-alimurat-üral-16896947.jpg', '/home/m/dev/ai/10/data/images/training/pexels-natalya-rostun-13002023 (1).jpg', '/home/m/dev/ai/10/data/images/training/pexels-aleks-magnusson-2907762.jpg', '/home/m/dev/ai/10/data/images/training/pexels-hemanth-k-m-11638635 (1).jpg', '/home/m/dev/ai/10/data/images/training/pexels-deane-bayas-11960291.jpg', '/home/m/dev/ai/10/data/images/training/pexels-luis-leon-2908870.jpg', '/home/m/dev/ai/10/data/images/training/pexels-erik-mclean-4674344.jpg', '/home/m/dev/ai/10/data/images/training/pexels-ann-bugaichuk-16647799.jpg', '/home/m/dev/ai/10/data/images/training/pexels-pawan-sable-12544682 (1).jpg', '/home/m/dev/ai/10/data/images/training/pexels-mick-latter-12582201.jpg', '/home/m/dev/ai/10/data/images/training/pexels-gantas-vaičiulėnas-3999536.jpg', '/home/m/dev/ai/10/data/images/training/pexels-ksenia-chernaya-7299850.jpg', '/home/m/dev/ai/10/data/images/training/pexels-frame-ofe-16619122.jpg', '/home/m/dev/ai/10/data/images/training/pexels-lê-minh-3062594.jpg', '/home/m/dev/ai/10/data/images/training/pexels-antony-trivet-9878657.jpg', '/home/m/dev/ai/10/data/images/training/pexels-ngân-phạm-17135719.jpg', '/home/m/dev/ai/10/data/images/training/pexels-matheus-natan-1890032.jpg', '/home/m/dev/ai/10/data/images/training/pexels-matheus-natan-2869261.jpg', '/home/m/dev/ai/10/data/images/training/pexels-antony-trivet-9981692 (1).jpg', '/home/m/dev/ai/10/data/images/training/pexels-andrea-piacquadio-920382.jpg', '/home/m/dev/ai/10/data/images/training/pexels-alexander-hamilton-9443581.jpg', '/home/m/dev/ai/10/data/images/training/pexels-himesh-mehta-3250348.jpg', '/home/m/dev/ai/10/data/images/training/pexels-quang-viet-nguyen-9561292.jpg', '/home/m/dev/ai/10/data/images/training/pexels-edward-eyer-2883067.jpg', '/home/m/dev/ai/10/data/images/training/pexels-bruno-cervera-15488686.jpg', '/home/m/dev/ai/10/data/images/training/pexels-marc-mueller-238541.jpg', '/home/m/dev/ai/10/data/images/training/pexels-deepa-gopinath-6306534.jpg', '/home/m/dev/ai/10/data/images/training/pexels-cottonbro-studio-4065906.jpg', '/home/m/dev/ai/10/data/images/training/pexels-joe-caltiere-10996872.jpg', '/home/m/dev/ai/10/data/images/training/pexels-erik-mclean-4674339.jpg', '/home/m/dev/ai/10/data/images/training/pexels-fatih-güney-16859810.jpg', '/home/m/dev/ai/10/data/images/training/pexels-jhonata-senna-2361663.jpg', '/home/m/dev/ai/10/data/images/training/pexels-arina-shilyaeva-3048710.jpg', '/home/m/dev/ai/10/data/images/training/pexels-quang-viet-nguyen-9561299.jpg', '/home/m/dev/ai/10/data/images/training/pexels-husnu-karalar-16658649.jpg', '/home/m/dev/ai/10/data/images/training/pexels-natalya-rostun-13002023.jpg', '/home/m/dev/ai/10/data/images/training/pexels-alina-komarevska-15793245.jpg', '/home/m/dev/ai/10/data/images/training/pexels-m-u-h-t-e-l-i-f-13920353.jpg', '/home/m/dev/ai/10/data/images/training/pexels-edgar-santana-12831258.jpg', '/home/m/dev/ai/10/data/images/training/pexels-andrea-piacquadio-920381.jpg', '/home/m/dev/ai/10/data/images/training/pexels-lisa-fotios-1092644.jpg', '/home/m/dev/ai/10/data/images/training/pexels-ion-ceban-ionelceban-2929835.jpg', '/home/m/dev/ai/10/data/images/training/pexels-antony-trivet-9878597.jpg', '/home/m/dev/ai/10/data/images/training/pexels-nothing-ahead-17988058.jpg', '/home/m/dev/ai/10/data/images/training/pexels-ali-pazani-2975612.jpg', '/home/m/dev/ai/10/data/images/training/pexels-kaushal-moradiya-9417523.jpg', '/home/m/dev/ai/10/data/images/training/pexels-pawan-sable-12544682.jpg', '/home/m/dev/ai/10/data/images/training/pexels-milad-heran-4082552.jpg', '/home/m/dev/ai/10/data/images/training/pexels-pratik-prasad-14778525.jpg', '/home/m/dev/ai/10/data/images/training/pexels-antony-trivet-9898246.jpg', '/home/m/dev/ai/10/data/images/training/pexels-ali-dashti-16924358.jpg', '/home/m/dev/ai/10/data/images/training/pexels-antony-trivet-9878632.jpg', '/home/m/dev/ai/10/data/images/training/pexels-plann-4549416.jpg', '/home/m/dev/ai/10/data/images/training/pexels-engin-akyurt-3275945.jpg', '/home/m/dev/ai/10/data/images/training/pexels-marlene-leppänen-13879526.jpg', '/home/m/dev/ai/10/data/images/training/pexels-natan-16463245.jpg', '/home/m/dev/ai/10/data/images/training/pexels-ana-ferreira-1895976.jpg', '/home/m/dev/ai/10/data/images/training/pexels-jacob-moore-11913339.jpg', '/home/m/dev/ai/10/data/images/training/pexels-antony-trivet-9981692.jpg', '/home/m/dev/ai/10/data/images/training/pexels-photomix-company-887751.jpg', '/home/m/dev/ai/10/data/images/training/pexels-akshay-mehra-10568782.jpg', '/home/m/dev/ai/10/data/images/training/pexels-krivec-ales-552774.jpg', '/home/m/dev/ai/10/data/images/training/pexels-mudassir-ali-1657299.jpg'], 'val': ['/home/m/dev/ai/10/data/images/val/pexels-teona-swift-6913714.jpg', '/home/m/dev/ai/10/data/images/val/pexels-shazard-r-10594822.jpg', '/home/m/dev/ai/10/data/images/val/pexels-rolando-brando-2703907.jpg', '/home/m/dev/ai/10/data/images/val/pexels-sama-bairamova-18193622.jpg', '/home/m/dev/ai/10/data/images/val/pexels-tyler-lastovich-699122.jpg', '/home/m/dev/ai/10/data/images/val/pexels-yahn-cv-17389793.jpg', '/home/m/dev/ai/10/data/images/val/pexels-xiaoming-tian-2884434.jpg', '/home/m/dev/ai/10/data/images/val/pexels-yahn-cv-17389792.jpg', '/home/m/dev/ai/10/data/images/val/pexels-teguh-sugi-16269009.jpg', '/home/m/dev/ai/10/data/images/val/pexels-xiaoming-tian-2884434 (1).jpg', '/home/m/dev/ai/10/data/images/val/pexels-screen-post-4526469.jpg', '/home/m/dev/ai/10/data/images/val/pexels-vitali-adutskevich-13793729.jpg', '/home/m/dev/ai/10/data/images/val/pexels-rdne-stock-project-4921398.jpg', '/home/m/dev/ai/10/data/images/val/pexels-vlad-chețan-3121979.jpg', '/home/m/dev/ai/10/data/images/val/pexels-ultra-2907810.jpg', '/home/m/dev/ai/10/data/images/val/pexels-sairam-rasa-3419331.jpg', '/home/m/dev/ai/10/data/images/val/pexels-roman-odintsov-4870844.jpg']}, epochs=50, time=None, patience=100, batch=16, imgsz=640, save=True, save_period=-1, cache=False, device=None, workers=8, project=None, name=yolov8n_custom524, exist_ok=False, pretrained=True, optimizer=auto, verbose=True, seed=0, deterministic=True, single_cls=False, rect=False, cos_lr=False, close_mosaic=10, resume=False, amp=True, fraction=1.0, profile=False, freeze=None, multi_scale=False, overlap_mask=True, mask_ratio=4, dropout=0.0, val=True, split=val, save_json=False, save_hybrid=False, conf=None, iou=0.7, max_det=300, half=False, dnn=False, plots=True, source=None, vid_stride=1, stream_buffer=False, visualize=False, augment=False, agnostic_nms=False, classes=None, retina_masks=False, embed=None, show=False, save_frames=False, save_txt=False, save_conf=False, save_crop=False, show_labels=True, show_conf=True, show_boxes=True, line_width=None, format=torchscript, keras=False, optimize=False, int8=False, dynamic=False, simplify=True, opset=None, workspace=4, nms=False, lr0=0.01, lrf=0.01, momentum=0.937, weight_decay=0.0005, warmup_epochs=3.0, warmup_momentum=0.8, warmup_bias_lr=0.1, box=7.5, cls=0.5, dfl=1.5, pose=12.0, kobj=1.0, label_smoothing=0.0, nbs=64, hsv_h=0.015, hsv_s=0.7, hsv_v=0.4, degrees=0.0, translate=0.1, scale=0.5, shear=0.0, perspective=0.0, flipud=0.0, fliplr=0.5, bgr=0.0, mosaic=1.0, mixup=0.0, copy_paste=0.0, copy_paste_mode=flip, auto_augment=randaugment, erasing=0.4, crop_fraction=1.0, cfg=None, tracker=botsort.yaml, save_dir=/home/m/dev/ai/runs/classify/yolov8n_custom524\n",
      "An error occurred during training: argument should be a str or an os.PathLike object where __fspath__ returns a str, not 'dict'\n",
      "Ultralytics 8.3.3 🚀 Python-3.12.3 torch-2.4.1+cu121 CPU (AMD Ryzen 7 4700U with Radeon Graphics)\n",
      "An error occurred during validation: argument should be a str or an os.PathLike object where __fspath__ returns a str, not 'list'\n"
     ]
    }
   ],
   "source": []
  }
 ],
 "metadata": {
  "kernelspec": {
   "display_name": "Python 3",
   "language": "python",
   "name": "python3"
  },
  "language_info": {
   "codemirror_mode": {
    "name": "ipython",
    "version": 3
   },
   "file_extension": ".py",
   "mimetype": "text/x-python",
   "name": "python",
   "nbconvert_exporter": "python",
   "pygments_lexer": "ipython3",
   "version": "3.12.3"
  }
 },
 "nbformat": 4,
 "nbformat_minor": 2
}
