{
 "cells": [
  {
   "cell_type": "code",
   "execution_count": 4,
   "metadata": {},
   "outputs": [],
   "source": [
    "import pandas as pd"
   ]
  },
  {
   "cell_type": "code",
   "execution_count": 59,
   "metadata": {},
   "outputs": [
    {
     "name": "stdout",
     "output_type": "stream",
     "text": [
      "    id                      trackName                       artistName  \\\n",
      "0   63                           Riot                          Säkert!   \n",
      "1   50               Someone Like You  Billie The Vision & The Dancers   \n",
      "2   19      Hon dansar vidare i livet                             Hov1   \n",
      "3   21               Hornstullsstrand                             Hov1   \n",
      "4   20                         Dö ung                             Hov1   \n",
      "..  ..                            ...                              ...   \n",
      "83  14                 De fördömdas ö                   Ellen Sundberg   \n",
      "84  73                  Måste jag dö?                      Klara & Jag   \n",
      "85  54  I Wonder Who Is Like This One                   Hello Saferide   \n",
      "86  83                   Two Man Gang                     Les Big Byrd   \n",
      "87  46      Hon älskade di himmelsblå                      Bräkne Hoby   \n",
      "\n",
      "                                            albumName  populartySong  \\\n",
      "0                                               Facit             73   \n",
      "1                                    Someone Like You             79   \n",
      "2                               Gudarna på Västerbron             62   \n",
      "3                                      Vindar på Mars             60   \n",
      "4                                      Vindar på Mars             56   \n",
      "..                                                ...            ...   \n",
      "83  Du sålde min biljett - Ellen Sundberg sjunger ...             37   \n",
      "84                                      Måste jag dö?             34   \n",
      "85      More Modern Short Stories From Hello Saferide             28   \n",
      "86                                       Two Man Gang             37   \n",
      "87                          Hon älskade di himmelsblå              4   \n",
      "\n",
      "                                               genres  populartyArtist  \n",
      "0                        ['emo rap', 'miami hip hop']               92  \n",
      "1       ['british soul', 'pop', 'pop soul', 'uk pop']               85  \n",
      "2   ['swedish idol pop', 'swedish pop', 'swedish p...               72  \n",
      "3   ['swedish idol pop', 'swedish pop', 'swedish p...               72  \n",
      "4   ['swedish idol pop', 'swedish pop', 'swedish p...               72  \n",
      "..                                                ...              ...  \n",
      "83                              ['swedish americana']               37  \n",
      "84                                    ['swedish pop']               37  \n",
      "85  ['stockholm indie', 'swedish alternative rock'...               37  \n",
      "86  ['neo-kraut', 'stockholm indie', 'swedish alte...               34  \n",
      "87                                                 []                9  \n",
      "\n",
      "[88 rows x 7 columns]\n"
     ]
    }
   ],
   "source": [
    "filedata = pd.read_csv('Dummytracks.csv')\n",
    "popularity = filedata['populartySong']\n",
    "name = filedata['artistName']\n",
    "popartist = filedata['populartyArtist']\n",
    "songname = filedata['trackName']\n",
    "print(filedata)"
   ]
  },
  {
   "cell_type": "code",
   "execution_count": 60,
   "metadata": {},
   "outputs": [],
   "source": [
    "popularityaverage = popularity.mean()\n",
    "artistaverage = popartist.mean()"
   ]
  },
  {
   "cell_type": "code",
   "execution_count": 61,
   "metadata": {},
   "outputs": [
    {
     "name": "stdout",
     "output_type": "stream",
     "text": [
      "['Säkert!' 'Billie The Vision & The Dancers' 'Hov1' 'Victor Leksell']\n"
     ]
    }
   ],
   "source": [
    "high_popularity_artists = name[popartist >= 70]\n",
    "print(high_popularity_artists.unique())"
   ]
  },
  {
   "cell_type": "code",
   "execution_count": 62,
   "metadata": {},
   "outputs": [
    {
     "name": "stdout",
     "output_type": "stream",
     "text": [
      "['Riot' 'Someone Like You' 'Svag']\n"
     ]
    }
   ],
   "source": [
    "high_popularity_songs = songname[popularity >= 70]\n",
    "print(high_popularity_songs.unique())\n"
   ]
  },
  {
   "cell_type": "code",
   "execution_count": 70,
   "metadata": {},
   "outputs": [
    {
     "name": "stdout",
     "output_type": "stream",
     "text": [
      "0                                          Riot\n",
      "1                              Someone Like You\n",
      "2                     Hon dansar vidare i livet\n",
      "3                              Hornstullsstrand\n",
      "4                                        Dö ung\n",
      "5                               Auf wiedersehen\n",
      "6                                          Svag\n",
      "7                                   Ha dig igen\n",
      "71                   Vi kommer att dö samtidigt\n",
      "72                                Dansa, fastän\n",
      "73                             Arktiska oceanen\n",
      "74                Någon gång måste du bli själv\n",
      "75                              Skadat exemplar\n",
      "77                                    Summercat\n",
      "78                         A Man from Argentina\n",
      "79    You’d Better Watch Out, ‘Cause I Like You\n",
      "Name: trackName, dtype: object\n",
      "mean score: 51.0\n",
      "0                Riot\n",
      "1    Someone Like You\n",
      "6                Svag\n",
      "Name: trackName, dtype: object\n"
     ]
    }
   ],
   "source": [
    "tracks_by_high_popularity_artists = songname[name.isin(high_popularity_artists)]\n",
    "print(tracks_by_high_popularity_artists)\n",
    "mean_popularity = popularity[tracks_by_high_popularity_artists.index].mean()    \n",
    "print(\"mean score:\", mean_popularity)\n",
    "tracks_over_70 = tracks_by_high_popularity_artists[popularity >= 70]\n",
    "\n",
    "print(tracks_over_70)"
   ]
  }
 ],
 "metadata": {
  "kernelspec": {
   "display_name": "Python 3",
   "language": "python",
   "name": "python3"
  },
  "language_info": {
   "codemirror_mode": {
    "name": "ipython",
    "version": 3
   },
   "file_extension": ".py",
   "mimetype": "text/x-python",
   "name": "python",
   "nbconvert_exporter": "python",
   "pygments_lexer": "ipython3",
   "version": "3.12.3"
  }
 },
 "nbformat": 4,
 "nbformat_minor": 2
}
